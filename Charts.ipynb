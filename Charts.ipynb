{
 "cells": [
  {
   "cell_type": "code",
   "execution_count": 1,
   "id": "d997323b",
   "metadata": {},
   "outputs": [],
   "source": [
    "import pandas as pd\n",
    "import plotly.express as px\n",
    "import numpy as np\n",
    "import matplotlib.pyplot as plt\n",
    "%matplotlib inline"
   ]
  },
  {
   "cell_type": "code",
   "execution_count": 22,
   "id": "e7394156",
   "metadata": {},
   "outputs": [],
   "source": [
    "file = pd.read_csv('Airline-Sentiment-2-w-AA.csv')"
   ]
  },
  {
   "cell_type": "code",
   "execution_count": 23,
   "id": "2f89e750",
   "metadata": {
    "scrolled": true
   },
   "outputs": [
    {
     "data": {
      "text/html": [
       "<div>\n",
       "<style scoped>\n",
       "    .dataframe tbody tr th:only-of-type {\n",
       "        vertical-align: middle;\n",
       "    }\n",
       "\n",
       "    .dataframe tbody tr th {\n",
       "        vertical-align: top;\n",
       "    }\n",
       "\n",
       "    .dataframe thead th {\n",
       "        text-align: right;\n",
       "    }\n",
       "</style>\n",
       "<table border=\"1\" class=\"dataframe\">\n",
       "  <thead>\n",
       "    <tr style=\"text-align: right;\">\n",
       "      <th></th>\n",
       "      <th>_unit_id</th>\n",
       "      <th>_golden</th>\n",
       "      <th>_unit_state</th>\n",
       "      <th>_trusted_judgments</th>\n",
       "      <th>_last_judgment_at</th>\n",
       "      <th>airline_sentiment</th>\n",
       "      <th>airline_sentiment:confidence</th>\n",
       "      <th>negativereason</th>\n",
       "      <th>negativereason:confidence</th>\n",
       "      <th>airline</th>\n",
       "      <th>airline_sentiment_gold</th>\n",
       "      <th>name</th>\n",
       "      <th>negativereason_gold</th>\n",
       "      <th>retweet_count</th>\n",
       "      <th>text</th>\n",
       "      <th>tweet_coord</th>\n",
       "      <th>tweet_created</th>\n",
       "      <th>tweet_id</th>\n",
       "      <th>tweet_location</th>\n",
       "      <th>user_timezone</th>\n",
       "    </tr>\n",
       "  </thead>\n",
       "  <tbody>\n",
       "    <tr>\n",
       "      <th>0</th>\n",
       "      <td>681448150</td>\n",
       "      <td>False</td>\n",
       "      <td>finalized</td>\n",
       "      <td>3</td>\n",
       "      <td>2/25/15 5:24</td>\n",
       "      <td>neutral</td>\n",
       "      <td>1.0000</td>\n",
       "      <td>NaN</td>\n",
       "      <td>NaN</td>\n",
       "      <td>Virgin America</td>\n",
       "      <td>NaN</td>\n",
       "      <td>cairdin</td>\n",
       "      <td>NaN</td>\n",
       "      <td>0</td>\n",
       "      <td>@VirginAmerica What @dhepburn said.</td>\n",
       "      <td>NaN</td>\n",
       "      <td>2/24/15 11:35</td>\n",
       "      <td>5.703060e+17</td>\n",
       "      <td>NaN</td>\n",
       "      <td>Eastern Time (US &amp; Canada)</td>\n",
       "    </tr>\n",
       "    <tr>\n",
       "      <th>1</th>\n",
       "      <td>681448153</td>\n",
       "      <td>False</td>\n",
       "      <td>finalized</td>\n",
       "      <td>3</td>\n",
       "      <td>2/25/15 1:53</td>\n",
       "      <td>positive</td>\n",
       "      <td>0.3486</td>\n",
       "      <td>NaN</td>\n",
       "      <td>0.0000</td>\n",
       "      <td>Virgin America</td>\n",
       "      <td>NaN</td>\n",
       "      <td>jnardino</td>\n",
       "      <td>NaN</td>\n",
       "      <td>0</td>\n",
       "      <td>@VirginAmerica plus you've added commercials t...</td>\n",
       "      <td>NaN</td>\n",
       "      <td>2/24/15 11:15</td>\n",
       "      <td>5.703010e+17</td>\n",
       "      <td>NaN</td>\n",
       "      <td>Pacific Time (US &amp; Canada)</td>\n",
       "    </tr>\n",
       "    <tr>\n",
       "      <th>2</th>\n",
       "      <td>681448156</td>\n",
       "      <td>False</td>\n",
       "      <td>finalized</td>\n",
       "      <td>3</td>\n",
       "      <td>2/25/15 10:01</td>\n",
       "      <td>neutral</td>\n",
       "      <td>0.6837</td>\n",
       "      <td>NaN</td>\n",
       "      <td>NaN</td>\n",
       "      <td>Virgin America</td>\n",
       "      <td>NaN</td>\n",
       "      <td>yvonnalynn</td>\n",
       "      <td>NaN</td>\n",
       "      <td>0</td>\n",
       "      <td>@VirginAmerica I didn't today... Must mean I n...</td>\n",
       "      <td>NaN</td>\n",
       "      <td>2/24/15 11:15</td>\n",
       "      <td>5.703010e+17</td>\n",
       "      <td>Lets Play</td>\n",
       "      <td>Central Time (US &amp; Canada)</td>\n",
       "    </tr>\n",
       "    <tr>\n",
       "      <th>3</th>\n",
       "      <td>681448158</td>\n",
       "      <td>False</td>\n",
       "      <td>finalized</td>\n",
       "      <td>3</td>\n",
       "      <td>2/25/15 3:05</td>\n",
       "      <td>negative</td>\n",
       "      <td>1.0000</td>\n",
       "      <td>Bad Flight</td>\n",
       "      <td>0.7033</td>\n",
       "      <td>Virgin America</td>\n",
       "      <td>NaN</td>\n",
       "      <td>jnardino</td>\n",
       "      <td>NaN</td>\n",
       "      <td>0</td>\n",
       "      <td>@VirginAmerica it's really aggressive to blast...</td>\n",
       "      <td>NaN</td>\n",
       "      <td>2/24/15 11:15</td>\n",
       "      <td>5.703010e+17</td>\n",
       "      <td>NaN</td>\n",
       "      <td>Pacific Time (US &amp; Canada)</td>\n",
       "    </tr>\n",
       "    <tr>\n",
       "      <th>4</th>\n",
       "      <td>681448159</td>\n",
       "      <td>False</td>\n",
       "      <td>finalized</td>\n",
       "      <td>3</td>\n",
       "      <td>2/25/15 5:50</td>\n",
       "      <td>negative</td>\n",
       "      <td>1.0000</td>\n",
       "      <td>Can't Tell</td>\n",
       "      <td>1.0000</td>\n",
       "      <td>Virgin America</td>\n",
       "      <td>NaN</td>\n",
       "      <td>jnardino</td>\n",
       "      <td>NaN</td>\n",
       "      <td>0</td>\n",
       "      <td>@VirginAmerica and it's a really big bad thing...</td>\n",
       "      <td>NaN</td>\n",
       "      <td>2/24/15 11:14</td>\n",
       "      <td>5.703010e+17</td>\n",
       "      <td>NaN</td>\n",
       "      <td>Pacific Time (US &amp; Canada)</td>\n",
       "    </tr>\n",
       "  </tbody>\n",
       "</table>\n",
       "</div>"
      ],
      "text/plain": [
       "    _unit_id  _golden _unit_state  _trusted_judgments _last_judgment_at  \\\n",
       "0  681448150    False   finalized                   3      2/25/15 5:24   \n",
       "1  681448153    False   finalized                   3      2/25/15 1:53   \n",
       "2  681448156    False   finalized                   3     2/25/15 10:01   \n",
       "3  681448158    False   finalized                   3      2/25/15 3:05   \n",
       "4  681448159    False   finalized                   3      2/25/15 5:50   \n",
       "\n",
       "  airline_sentiment  airline_sentiment:confidence negativereason  \\\n",
       "0           neutral                        1.0000            NaN   \n",
       "1          positive                        0.3486            NaN   \n",
       "2           neutral                        0.6837            NaN   \n",
       "3          negative                        1.0000     Bad Flight   \n",
       "4          negative                        1.0000     Can't Tell   \n",
       "\n",
       "   negativereason:confidence         airline airline_sentiment_gold  \\\n",
       "0                        NaN  Virgin America                    NaN   \n",
       "1                     0.0000  Virgin America                    NaN   \n",
       "2                        NaN  Virgin America                    NaN   \n",
       "3                     0.7033  Virgin America                    NaN   \n",
       "4                     1.0000  Virgin America                    NaN   \n",
       "\n",
       "         name negativereason_gold  retweet_count  \\\n",
       "0     cairdin                 NaN              0   \n",
       "1    jnardino                 NaN              0   \n",
       "2  yvonnalynn                 NaN              0   \n",
       "3    jnardino                 NaN              0   \n",
       "4    jnardino                 NaN              0   \n",
       "\n",
       "                                                text tweet_coord  \\\n",
       "0                @VirginAmerica What @dhepburn said.         NaN   \n",
       "1  @VirginAmerica plus you've added commercials t...         NaN   \n",
       "2  @VirginAmerica I didn't today... Must mean I n...         NaN   \n",
       "3  @VirginAmerica it's really aggressive to blast...         NaN   \n",
       "4  @VirginAmerica and it's a really big bad thing...         NaN   \n",
       "\n",
       "   tweet_created      tweet_id tweet_location               user_timezone  \n",
       "0  2/24/15 11:35  5.703060e+17            NaN  Eastern Time (US & Canada)  \n",
       "1  2/24/15 11:15  5.703010e+17            NaN  Pacific Time (US & Canada)  \n",
       "2  2/24/15 11:15  5.703010e+17      Lets Play  Central Time (US & Canada)  \n",
       "3  2/24/15 11:15  5.703010e+17            NaN  Pacific Time (US & Canada)  \n",
       "4  2/24/15 11:14  5.703010e+17            NaN  Pacific Time (US & Canada)  "
      ]
     },
     "execution_count": 23,
     "metadata": {},
     "output_type": "execute_result"
    }
   ],
   "source": [
    "file.head()"
   ]
  },
  {
   "cell_type": "code",
   "execution_count": 4,
   "id": "2615cf94",
   "metadata": {},
   "outputs": [
    {
     "data": {
      "text/plain": [
       "(14640, 20)"
      ]
     },
     "execution_count": 4,
     "metadata": {},
     "output_type": "execute_result"
    }
   ],
   "source": [
    "file.shape"
   ]
  },
  {
   "cell_type": "code",
   "execution_count": 5,
   "id": "f0a680e0",
   "metadata": {},
   "outputs": [
    {
     "data": {
      "text/plain": [
       "Index(['_unit_id', '_golden', '_unit_state', '_trusted_judgments',\n",
       "       '_last_judgment_at', 'airline_sentiment',\n",
       "       'airline_sentiment:confidence', 'negativereason',\n",
       "       'negativereason:confidence', 'airline', 'airline_sentiment_gold',\n",
       "       'name', 'negativereason_gold', 'retweet_count', 'text', 'tweet_coord',\n",
       "       'tweet_created', 'tweet_id', 'tweet_location', 'user_timezone'],\n",
       "      dtype='object')"
      ]
     },
     "execution_count": 5,
     "metadata": {},
     "output_type": "execute_result"
    }
   ],
   "source": [
    "file.columns"
   ]
  },
  {
   "cell_type": "code",
   "execution_count": 6,
   "id": "028e3d68",
   "metadata": {},
   "outputs": [
    {
     "data": {
      "text/html": [
       "<div>\n",
       "<style scoped>\n",
       "    .dataframe tbody tr th:only-of-type {\n",
       "        vertical-align: middle;\n",
       "    }\n",
       "\n",
       "    .dataframe tbody tr th {\n",
       "        vertical-align: top;\n",
       "    }\n",
       "\n",
       "    .dataframe thead th {\n",
       "        text-align: right;\n",
       "    }\n",
       "</style>\n",
       "<table border=\"1\" class=\"dataframe\">\n",
       "  <thead>\n",
       "    <tr style=\"text-align: right;\">\n",
       "      <th></th>\n",
       "      <th>_unit_id</th>\n",
       "      <th>_trusted_judgments</th>\n",
       "      <th>airline_sentiment:confidence</th>\n",
       "      <th>negativereason:confidence</th>\n",
       "      <th>retweet_count</th>\n",
       "      <th>tweet_id</th>\n",
       "    </tr>\n",
       "  </thead>\n",
       "  <tbody>\n",
       "    <tr>\n",
       "      <th>count</th>\n",
       "      <td>1.464000e+04</td>\n",
       "      <td>14640.000000</td>\n",
       "      <td>14640.000000</td>\n",
       "      <td>10522.000000</td>\n",
       "      <td>14640.000000</td>\n",
       "      <td>1.464000e+04</td>\n",
       "    </tr>\n",
       "    <tr>\n",
       "      <th>mean</th>\n",
       "      <td>6.814957e+08</td>\n",
       "      <td>3.618648</td>\n",
       "      <td>0.900169</td>\n",
       "      <td>0.638298</td>\n",
       "      <td>0.082650</td>\n",
       "      <td>5.692184e+17</td>\n",
       "    </tr>\n",
       "    <tr>\n",
       "      <th>std</th>\n",
       "      <td>8.504314e+04</td>\n",
       "      <td>11.858704</td>\n",
       "      <td>0.162830</td>\n",
       "      <td>0.330440</td>\n",
       "      <td>0.745778</td>\n",
       "      <td>7.791092e+14</td>\n",
       "    </tr>\n",
       "    <tr>\n",
       "      <th>min</th>\n",
       "      <td>6.814482e+08</td>\n",
       "      <td>2.000000</td>\n",
       "      <td>0.335000</td>\n",
       "      <td>0.000000</td>\n",
       "      <td>0.000000</td>\n",
       "      <td>5.675880e+17</td>\n",
       "    </tr>\n",
       "    <tr>\n",
       "      <th>25%</th>\n",
       "      <td>6.814536e+08</td>\n",
       "      <td>3.000000</td>\n",
       "      <td>0.692300</td>\n",
       "      <td>0.360600</td>\n",
       "      <td>0.000000</td>\n",
       "      <td>5.685590e+17</td>\n",
       "    </tr>\n",
       "    <tr>\n",
       "      <th>50%</th>\n",
       "      <td>6.814578e+08</td>\n",
       "      <td>3.000000</td>\n",
       "      <td>1.000000</td>\n",
       "      <td>0.670600</td>\n",
       "      <td>0.000000</td>\n",
       "      <td>5.694780e+17</td>\n",
       "    </tr>\n",
       "    <tr>\n",
       "      <th>75%</th>\n",
       "      <td>6.814623e+08</td>\n",
       "      <td>3.000000</td>\n",
       "      <td>1.000000</td>\n",
       "      <td>1.000000</td>\n",
       "      <td>0.000000</td>\n",
       "      <td>5.698902e+17</td>\n",
       "    </tr>\n",
       "    <tr>\n",
       "      <th>max</th>\n",
       "      <td>6.816798e+08</td>\n",
       "      <td>248.000000</td>\n",
       "      <td>1.000000</td>\n",
       "      <td>1.000000</td>\n",
       "      <td>44.000000</td>\n",
       "      <td>5.703110e+17</td>\n",
       "    </tr>\n",
       "  </tbody>\n",
       "</table>\n",
       "</div>"
      ],
      "text/plain": [
       "           _unit_id  _trusted_judgments  airline_sentiment:confidence  \\\n",
       "count  1.464000e+04        14640.000000                  14640.000000   \n",
       "mean   6.814957e+08            3.618648                      0.900169   \n",
       "std    8.504314e+04           11.858704                      0.162830   \n",
       "min    6.814482e+08            2.000000                      0.335000   \n",
       "25%    6.814536e+08            3.000000                      0.692300   \n",
       "50%    6.814578e+08            3.000000                      1.000000   \n",
       "75%    6.814623e+08            3.000000                      1.000000   \n",
       "max    6.816798e+08          248.000000                      1.000000   \n",
       "\n",
       "       negativereason:confidence  retweet_count      tweet_id  \n",
       "count               10522.000000   14640.000000  1.464000e+04  \n",
       "mean                    0.638298       0.082650  5.692184e+17  \n",
       "std                     0.330440       0.745778  7.791092e+14  \n",
       "min                     0.000000       0.000000  5.675880e+17  \n",
       "25%                     0.360600       0.000000  5.685590e+17  \n",
       "50%                     0.670600       0.000000  5.694780e+17  \n",
       "75%                     1.000000       0.000000  5.698902e+17  \n",
       "max                     1.000000      44.000000  5.703110e+17  "
      ]
     },
     "execution_count": 6,
     "metadata": {},
     "output_type": "execute_result"
    }
   ],
   "source": [
    "file.describe()"
   ]
  },
  {
   "cell_type": "code",
   "execution_count": 8,
   "id": "920111b4",
   "metadata": {},
   "outputs": [
    {
     "data": {
      "text/html": [
       "<div>\n",
       "<style scoped>\n",
       "    .dataframe tbody tr th:only-of-type {\n",
       "        vertical-align: middle;\n",
       "    }\n",
       "\n",
       "    .dataframe tbody tr th {\n",
       "        vertical-align: top;\n",
       "    }\n",
       "\n",
       "    .dataframe thead th {\n",
       "        text-align: right;\n",
       "    }\n",
       "</style>\n",
       "<table border=\"1\" class=\"dataframe\">\n",
       "  <thead>\n",
       "    <tr style=\"text-align: right;\">\n",
       "      <th></th>\n",
       "      <th>_unit_id</th>\n",
       "      <th>_golden</th>\n",
       "      <th>_unit_state</th>\n",
       "      <th>_trusted_judgments</th>\n",
       "      <th>_last_judgment_at</th>\n",
       "      <th>airline_sentiment</th>\n",
       "      <th>airline_sentiment:confidence</th>\n",
       "      <th>negativereason</th>\n",
       "      <th>negativereason:confidence</th>\n",
       "      <th>airline</th>\n",
       "      <th>airline_sentiment_gold</th>\n",
       "      <th>name</th>\n",
       "      <th>negativereason_gold</th>\n",
       "      <th>retweet_count</th>\n",
       "      <th>text</th>\n",
       "      <th>tweet_coord</th>\n",
       "      <th>tweet_created</th>\n",
       "      <th>tweet_id</th>\n",
       "      <th>tweet_location</th>\n",
       "      <th>user_timezone</th>\n",
       "    </tr>\n",
       "  </thead>\n",
       "  <tbody>\n",
       "    <tr>\n",
       "      <th>0</th>\n",
       "      <td>681448150</td>\n",
       "      <td>False</td>\n",
       "      <td>finalized</td>\n",
       "      <td>3</td>\n",
       "      <td>2/25/15 5:24</td>\n",
       "      <td>neutral</td>\n",
       "      <td>1.0000</td>\n",
       "      <td>NaN</td>\n",
       "      <td>NaN</td>\n",
       "      <td>Virgin America</td>\n",
       "      <td>NaN</td>\n",
       "      <td>cairdin</td>\n",
       "      <td>NaN</td>\n",
       "      <td>0</td>\n",
       "      <td>@VirginAmerica What @dhepburn said.</td>\n",
       "      <td>NaN</td>\n",
       "      <td>2/24/15 11:35</td>\n",
       "      <td>5.703060e+17</td>\n",
       "      <td>NaN</td>\n",
       "      <td>Eastern Time (US &amp; Canada)</td>\n",
       "    </tr>\n",
       "    <tr>\n",
       "      <th>2</th>\n",
       "      <td>681448156</td>\n",
       "      <td>False</td>\n",
       "      <td>finalized</td>\n",
       "      <td>3</td>\n",
       "      <td>2/25/15 10:01</td>\n",
       "      <td>neutral</td>\n",
       "      <td>0.6837</td>\n",
       "      <td>NaN</td>\n",
       "      <td>NaN</td>\n",
       "      <td>Virgin America</td>\n",
       "      <td>NaN</td>\n",
       "      <td>yvonnalynn</td>\n",
       "      <td>NaN</td>\n",
       "      <td>0</td>\n",
       "      <td>@VirginAmerica I didn't today... Must mean I n...</td>\n",
       "      <td>NaN</td>\n",
       "      <td>2/24/15 11:15</td>\n",
       "      <td>5.703010e+17</td>\n",
       "      <td>Lets Play</td>\n",
       "      <td>Central Time (US &amp; Canada)</td>\n",
       "    </tr>\n",
       "    <tr>\n",
       "      <th>7</th>\n",
       "      <td>681448167</td>\n",
       "      <td>False</td>\n",
       "      <td>finalized</td>\n",
       "      <td>3</td>\n",
       "      <td>2/25/15 2:11</td>\n",
       "      <td>neutral</td>\n",
       "      <td>0.6340</td>\n",
       "      <td>NaN</td>\n",
       "      <td>NaN</td>\n",
       "      <td>Virgin America</td>\n",
       "      <td>NaN</td>\n",
       "      <td>pilot</td>\n",
       "      <td>NaN</td>\n",
       "      <td>0</td>\n",
       "      <td>@VirginAmerica Really missed a prime opportuni...</td>\n",
       "      <td>NaN</td>\n",
       "      <td>2/24/15 11:12</td>\n",
       "      <td>5.703000e+17</td>\n",
       "      <td>Los Angeles</td>\n",
       "      <td>Pacific Time (US &amp; Canada)</td>\n",
       "    </tr>\n",
       "    <tr>\n",
       "      <th>10</th>\n",
       "      <td>681448174</td>\n",
       "      <td>False</td>\n",
       "      <td>finalized</td>\n",
       "      <td>3</td>\n",
       "      <td>2/25/15 8:34</td>\n",
       "      <td>neutral</td>\n",
       "      <td>0.6769</td>\n",
       "      <td>NaN</td>\n",
       "      <td>0.0</td>\n",
       "      <td>Virgin America</td>\n",
       "      <td>NaN</td>\n",
       "      <td>idk_but_youtube</td>\n",
       "      <td>NaN</td>\n",
       "      <td>0</td>\n",
       "      <td>@VirginAmerica did you know that suicide is th...</td>\n",
       "      <td>NaN</td>\n",
       "      <td>2/24/15 10:48</td>\n",
       "      <td>5.702940e+17</td>\n",
       "      <td>1/1 loner squad</td>\n",
       "      <td>Eastern Time (US &amp; Canada)</td>\n",
       "    </tr>\n",
       "    <tr>\n",
       "      <th>23</th>\n",
       "      <td>681448201</td>\n",
       "      <td>False</td>\n",
       "      <td>finalized</td>\n",
       "      <td>3</td>\n",
       "      <td>2/25/15 11:31</td>\n",
       "      <td>neutral</td>\n",
       "      <td>1.0000</td>\n",
       "      <td>NaN</td>\n",
       "      <td>NaN</td>\n",
       "      <td>Virgin America</td>\n",
       "      <td>NaN</td>\n",
       "      <td>rjlynch21086</td>\n",
       "      <td>NaN</td>\n",
       "      <td>0</td>\n",
       "      <td>@VirginAmerica will you be making BOS&amp;gt;LAS n...</td>\n",
       "      <td>NaN</td>\n",
       "      <td>2/24/15 8:27</td>\n",
       "      <td>5.702590e+17</td>\n",
       "      <td>Boston, MA</td>\n",
       "      <td>Eastern Time (US &amp; Canada)</td>\n",
       "    </tr>\n",
       "    <tr>\n",
       "      <th>...</th>\n",
       "      <td>...</td>\n",
       "      <td>...</td>\n",
       "      <td>...</td>\n",
       "      <td>...</td>\n",
       "      <td>...</td>\n",
       "      <td>...</td>\n",
       "      <td>...</td>\n",
       "      <td>...</td>\n",
       "      <td>...</td>\n",
       "      <td>...</td>\n",
       "      <td>...</td>\n",
       "      <td>...</td>\n",
       "      <td>...</td>\n",
       "      <td>...</td>\n",
       "      <td>...</td>\n",
       "      <td>...</td>\n",
       "      <td>...</td>\n",
       "      <td>...</td>\n",
       "      <td>...</td>\n",
       "      <td>...</td>\n",
       "    </tr>\n",
       "    <tr>\n",
       "      <th>14607</th>\n",
       "      <td>681679766</td>\n",
       "      <td>False</td>\n",
       "      <td>finalized</td>\n",
       "      <td>3</td>\n",
       "      <td>2/25/15 18:44</td>\n",
       "      <td>neutral</td>\n",
       "      <td>1.0000</td>\n",
       "      <td>NaN</td>\n",
       "      <td>NaN</td>\n",
       "      <td>American</td>\n",
       "      <td>NaN</td>\n",
       "      <td>WishUpon_26</td>\n",
       "      <td>NaN</td>\n",
       "      <td>0</td>\n",
       "      <td>@AmericanAir i need someone to help me out</td>\n",
       "      <td>NaN</td>\n",
       "      <td>2/22/15 12:19</td>\n",
       "      <td>5.695920e+17</td>\n",
       "      <td>KY</td>\n",
       "      <td>Eastern Time (US &amp; Canada)</td>\n",
       "    </tr>\n",
       "    <tr>\n",
       "      <th>14611</th>\n",
       "      <td>681679770</td>\n",
       "      <td>False</td>\n",
       "      <td>finalized</td>\n",
       "      <td>3</td>\n",
       "      <td>2/25/15 18:54</td>\n",
       "      <td>neutral</td>\n",
       "      <td>1.0000</td>\n",
       "      <td>NaN</td>\n",
       "      <td>NaN</td>\n",
       "      <td>American</td>\n",
       "      <td>NaN</td>\n",
       "      <td>TrueChief77</td>\n",
       "      <td>NaN</td>\n",
       "      <td>0</td>\n",
       "      <td>@AmericanAir guarantee no retribution? If so, ...</td>\n",
       "      <td>NaN</td>\n",
       "      <td>2/22/15 12:17</td>\n",
       "      <td>5.695920e+17</td>\n",
       "      <td>970 Colorado</td>\n",
       "      <td>NaN</td>\n",
       "    </tr>\n",
       "    <tr>\n",
       "      <th>14632</th>\n",
       "      <td>681679791</td>\n",
       "      <td>False</td>\n",
       "      <td>finalized</td>\n",
       "      <td>3</td>\n",
       "      <td>2/25/15 19:15</td>\n",
       "      <td>neutral</td>\n",
       "      <td>0.6760</td>\n",
       "      <td>NaN</td>\n",
       "      <td>0.0</td>\n",
       "      <td>American</td>\n",
       "      <td>NaN</td>\n",
       "      <td>Chad_SMFYM</td>\n",
       "      <td>NaN</td>\n",
       "      <td>0</td>\n",
       "      <td>???@AmericanAir: @TilleyMonsta George, that do...</td>\n",
       "      <td>NaN</td>\n",
       "      <td>2/22/15 12:01</td>\n",
       "      <td>5.695880e+17</td>\n",
       "      <td>NaN</td>\n",
       "      <td>Central Time (US &amp; Canada)</td>\n",
       "    </tr>\n",
       "    <tr>\n",
       "      <th>14637</th>\n",
       "      <td>681679796</td>\n",
       "      <td>False</td>\n",
       "      <td>finalized</td>\n",
       "      <td>3</td>\n",
       "      <td>2/25/15 19:04</td>\n",
       "      <td>neutral</td>\n",
       "      <td>1.0000</td>\n",
       "      <td>NaN</td>\n",
       "      <td>NaN</td>\n",
       "      <td>American</td>\n",
       "      <td>NaN</td>\n",
       "      <td>sanyabun</td>\n",
       "      <td>NaN</td>\n",
       "      <td>0</td>\n",
       "      <td>@AmericanAir Please bring American Airlines to...</td>\n",
       "      <td>NaN</td>\n",
       "      <td>2/22/15 11:59</td>\n",
       "      <td>5.695870e+17</td>\n",
       "      <td>Nigeria,lagos</td>\n",
       "      <td>NaN</td>\n",
       "    </tr>\n",
       "    <tr>\n",
       "      <th>14639</th>\n",
       "      <td>681679798</td>\n",
       "      <td>False</td>\n",
       "      <td>finalized</td>\n",
       "      <td>3</td>\n",
       "      <td>2/25/15 19:06</td>\n",
       "      <td>neutral</td>\n",
       "      <td>0.6771</td>\n",
       "      <td>NaN</td>\n",
       "      <td>0.0</td>\n",
       "      <td>American</td>\n",
       "      <td>NaN</td>\n",
       "      <td>daviddtwu</td>\n",
       "      <td>NaN</td>\n",
       "      <td>0</td>\n",
       "      <td>@AmericanAir we have 8 ppl so we need 2 know h...</td>\n",
       "      <td>NaN</td>\n",
       "      <td>2/22/15 11:58</td>\n",
       "      <td>5.695870e+17</td>\n",
       "      <td>dallas, TX</td>\n",
       "      <td>NaN</td>\n",
       "    </tr>\n",
       "  </tbody>\n",
       "</table>\n",
       "<p>3099 rows × 20 columns</p>\n",
       "</div>"
      ],
      "text/plain": [
       "        _unit_id  _golden _unit_state  _trusted_judgments _last_judgment_at  \\\n",
       "0      681448150    False   finalized                   3      2/25/15 5:24   \n",
       "2      681448156    False   finalized                   3     2/25/15 10:01   \n",
       "7      681448167    False   finalized                   3      2/25/15 2:11   \n",
       "10     681448174    False   finalized                   3      2/25/15 8:34   \n",
       "23     681448201    False   finalized                   3     2/25/15 11:31   \n",
       "...          ...      ...         ...                 ...               ...   \n",
       "14607  681679766    False   finalized                   3     2/25/15 18:44   \n",
       "14611  681679770    False   finalized                   3     2/25/15 18:54   \n",
       "14632  681679791    False   finalized                   3     2/25/15 19:15   \n",
       "14637  681679796    False   finalized                   3     2/25/15 19:04   \n",
       "14639  681679798    False   finalized                   3     2/25/15 19:06   \n",
       "\n",
       "      airline_sentiment  airline_sentiment:confidence negativereason  \\\n",
       "0               neutral                        1.0000            NaN   \n",
       "2               neutral                        0.6837            NaN   \n",
       "7               neutral                        0.6340            NaN   \n",
       "10              neutral                        0.6769            NaN   \n",
       "23              neutral                        1.0000            NaN   \n",
       "...                 ...                           ...            ...   \n",
       "14607           neutral                        1.0000            NaN   \n",
       "14611           neutral                        1.0000            NaN   \n",
       "14632           neutral                        0.6760            NaN   \n",
       "14637           neutral                        1.0000            NaN   \n",
       "14639           neutral                        0.6771            NaN   \n",
       "\n",
       "       negativereason:confidence         airline airline_sentiment_gold  \\\n",
       "0                            NaN  Virgin America                    NaN   \n",
       "2                            NaN  Virgin America                    NaN   \n",
       "7                            NaN  Virgin America                    NaN   \n",
       "10                           0.0  Virgin America                    NaN   \n",
       "23                           NaN  Virgin America                    NaN   \n",
       "...                          ...             ...                    ...   \n",
       "14607                        NaN        American                    NaN   \n",
       "14611                        NaN        American                    NaN   \n",
       "14632                        0.0        American                    NaN   \n",
       "14637                        NaN        American                    NaN   \n",
       "14639                        0.0        American                    NaN   \n",
       "\n",
       "                  name negativereason_gold  retweet_count  \\\n",
       "0              cairdin                 NaN              0   \n",
       "2           yvonnalynn                 NaN              0   \n",
       "7                pilot                 NaN              0   \n",
       "10     idk_but_youtube                 NaN              0   \n",
       "23        rjlynch21086                 NaN              0   \n",
       "...                ...                 ...            ...   \n",
       "14607      WishUpon_26                 NaN              0   \n",
       "14611      TrueChief77                 NaN              0   \n",
       "14632       Chad_SMFYM                 NaN              0   \n",
       "14637         sanyabun                 NaN              0   \n",
       "14639        daviddtwu                 NaN              0   \n",
       "\n",
       "                                                    text tweet_coord  \\\n",
       "0                    @VirginAmerica What @dhepburn said.         NaN   \n",
       "2      @VirginAmerica I didn't today... Must mean I n...         NaN   \n",
       "7      @VirginAmerica Really missed a prime opportuni...         NaN   \n",
       "10     @VirginAmerica did you know that suicide is th...         NaN   \n",
       "23     @VirginAmerica will you be making BOS&gt;LAS n...         NaN   \n",
       "...                                                  ...         ...   \n",
       "14607         @AmericanAir i need someone to help me out         NaN   \n",
       "14611  @AmericanAir guarantee no retribution? If so, ...         NaN   \n",
       "14632  ???@AmericanAir: @TilleyMonsta George, that do...         NaN   \n",
       "14637  @AmericanAir Please bring American Airlines to...         NaN   \n",
       "14639  @AmericanAir we have 8 ppl so we need 2 know h...         NaN   \n",
       "\n",
       "       tweet_created      tweet_id   tweet_location  \\\n",
       "0      2/24/15 11:35  5.703060e+17              NaN   \n",
       "2      2/24/15 11:15  5.703010e+17        Lets Play   \n",
       "7      2/24/15 11:12  5.703000e+17      Los Angeles   \n",
       "10     2/24/15 10:48  5.702940e+17  1/1 loner squad   \n",
       "23      2/24/15 8:27  5.702590e+17      Boston, MA    \n",
       "...              ...           ...              ...   \n",
       "14607  2/22/15 12:19  5.695920e+17               KY   \n",
       "14611  2/22/15 12:17  5.695920e+17     970 Colorado   \n",
       "14632  2/22/15 12:01  5.695880e+17              NaN   \n",
       "14637  2/22/15 11:59  5.695870e+17    Nigeria,lagos   \n",
       "14639  2/22/15 11:58  5.695870e+17       dallas, TX   \n",
       "\n",
       "                    user_timezone  \n",
       "0      Eastern Time (US & Canada)  \n",
       "2      Central Time (US & Canada)  \n",
       "7      Pacific Time (US & Canada)  \n",
       "10     Eastern Time (US & Canada)  \n",
       "23     Eastern Time (US & Canada)  \n",
       "...                           ...  \n",
       "14607  Eastern Time (US & Canada)  \n",
       "14611                         NaN  \n",
       "14632  Central Time (US & Canada)  \n",
       "14637                         NaN  \n",
       "14639                         NaN  \n",
       "\n",
       "[3099 rows x 20 columns]"
      ]
     },
     "execution_count": 8,
     "metadata": {},
     "output_type": "execute_result"
    }
   ],
   "source": [
    "file.loc[file['airline_sentiment']=='neutral']"
   ]
  },
  {
   "cell_type": "code",
   "execution_count": 10,
   "id": "3c2a54d1",
   "metadata": {},
   "outputs": [
    {
     "data": {
      "text/plain": [
       "airline\n",
       "American          463\n",
       "Delta             723\n",
       "Southwest         664\n",
       "US Airways        381\n",
       "United            697\n",
       "Virgin America    171\n",
       "dtype: int64"
      ]
     },
     "execution_count": 10,
     "metadata": {},
     "output_type": "execute_result"
    }
   ],
   "source": [
    "count_by_neutral = file.loc[file['airline_sentiment'] == 'neutral'].groupby('airline').size()\n",
    "count_by_neutral"
   ]
  },
  {
   "cell_type": "code",
   "execution_count": 11,
   "id": "a2b1680c",
   "metadata": {},
   "outputs": [
    {
     "data": {
      "text/plain": [
       "(array([1., 0., 0., 0., 0., 0., 0., 1., 0., 0., 1., 0., 0., 0., 0., 0., 0.,\n",
       "        1., 0., 2.]),\n",
       " array([171. , 198.6, 226.2, 253.8, 281.4, 309. , 336.6, 364.2, 391.8,\n",
       "        419.4, 447. , 474.6, 502.2, 529.8, 557.4, 585. , 612.6, 640.2,\n",
       "        667.8, 695.4, 723. ]),\n",
       " <BarContainer object of 20 artists>)"
      ]
     },
     "execution_count": 11,
     "metadata": {},
     "output_type": "execute_result"
    },
    {
     "data": {
      "image/png": "[encoded data removed]",
      "text/plain": [
       "<Figure size 432x288 with 1 Axes>"
      ]
     },
     "metadata": {
      "needs_background": "light"
     },
     "output_type": "display_data"
    }
   ],
   "source": [
    "count_by_neutral = file.loc[file['airline_sentiment'] == 'neutral'].groupby('airline').size()\n",
    "count_by_neutral.values\n",
    "plt.hist(count_by_neutral.values, 20)"
   ]
  },
  {
   "cell_type": "code",
   "execution_count": 12,
   "id": "6c3c3db3",
   "metadata": {},
   "outputs": [
    {
     "data": {
      "text/plain": [
       "airline_sentiment\n",
       "negative    955\n",
       "neutral     723\n",
       "positive    544\n",
       "dtype: int64"
      ]
     },
     "execution_count": 12,
     "metadata": {},
     "output_type": "execute_result"
    }
   ],
   "source": [
    "count_by_delta = file.loc[file['airline']=='Delta'].groupby('airline_sentiment').size()\n",
    "count_by_delta"
   ]
  },
  {
   "cell_type": "code",
   "execution_count": 13,
   "id": "5f729db7",
   "metadata": {},
   "outputs": [
    {
     "data": {
      "text/plain": [
       "(array([1., 0., 0., 0., 0., 0., 0., 0., 1., 0., 0., 0., 0., 0., 0., 0., 0.,\n",
       "        0., 0., 1.]),\n",
       " array([544.  , 564.55, 585.1 , 605.65, 626.2 , 646.75, 667.3 , 687.85,\n",
       "        708.4 , 728.95, 749.5 , 770.05, 790.6 , 811.15, 831.7 , 852.25,\n",
       "        872.8 , 893.35, 913.9 , 934.45, 955.  ]),\n",
       " <BarContainer object of 20 artists>)"
      ]
     },
     "execution_count": 13,
     "metadata": {},
     "output_type": "execute_result"
    },
    {
     "data": {
      "image/png": "[encoded data removed]",
      "text/plain": [
       "<Figure size 432x288 with 1 Axes>"
      ]
     },
     "metadata": {
      "needs_background": "light"
     },
     "output_type": "display_data"
    }
   ],
   "source": [
    "count_by_delta = file.loc[file['airline']=='Delta'].groupby('airline_sentiment').size()\n",
    "count_by_delta.values\n",
    "plt.hist(count_by_delta.values, 20)"
   ]
  },
  {
   "cell_type": "code",
   "execution_count": 20,
   "id": "80459e6a",
   "metadata": {},
   "outputs": [
    {
     "data": {
      "text/plain": [
       "Index(['airline_sentiment'], dtype='object')"
      ]
     },
     "execution_count": 20,
     "metadata": {},
     "output_type": "execute_result"
    }
   ],
   "source": [
    "file.columns"
   ]
  },
  {
   "cell_type": "code",
   "execution_count": 21,
   "id": "da34e4cd",
   "metadata": {},
   "outputs": [
    {
     "data": {
      "text/html": [
       "<div>\n",
       "<style scoped>\n",
       "    .dataframe tbody tr th:only-of-type {\n",
       "        vertical-align: middle;\n",
       "    }\n",
       "\n",
       "    .dataframe tbody tr th {\n",
       "        vertical-align: top;\n",
       "    }\n",
       "\n",
       "    .dataframe thead th {\n",
       "        text-align: right;\n",
       "    }\n",
       "</style>\n",
       "<table border=\"1\" class=\"dataframe\">\n",
       "  <thead>\n",
       "    <tr style=\"text-align: right;\">\n",
       "      <th></th>\n",
       "      <th>airline_sentiment</th>\n",
       "    </tr>\n",
       "    <tr>\n",
       "      <th>airline</th>\n",
       "      <th></th>\n",
       "    </tr>\n",
       "  </thead>\n",
       "  <tbody>\n",
       "    <tr>\n",
       "      <th>American</th>\n",
       "      <td>463</td>\n",
       "    </tr>\n",
       "    <tr>\n",
       "      <th>Delta</th>\n",
       "      <td>723</td>\n",
       "    </tr>\n",
       "    <tr>\n",
       "      <th>Southwest</th>\n",
       "      <td>644</td>\n",
       "    </tr>\n",
       "    <tr>\n",
       "      <th>US Airways</th>\n",
       "      <td>381</td>\n",
       "    </tr>\n",
       "    <tr>\n",
       "      <th>United</th>\n",
       "      <td>697</td>\n",
       "    </tr>\n",
       "    <tr>\n",
       "      <th>Virgin America</th>\n",
       "      <td>171</td>\n",
       "    </tr>\n",
       "  </tbody>\n",
       "</table>\n",
       "</div>"
      ],
      "text/plain": [
       "                airline_sentiment\n",
       "airline                          \n",
       "American                      463\n",
       "Delta                         723\n",
       "Southwest                     644\n",
       "US Airways                    381\n",
       "United                        697\n",
       "Virgin America                171"
      ]
     },
     "execution_count": 21,
     "metadata": {},
     "output_type": "execute_result"
    }
   ],
   "source": [
    "file"
   ]
  },
  {
   "cell_type": "code",
   "execution_count": 24,
   "id": "4ee08b75",
   "metadata": {},
   "outputs": [
    {
     "data": {
      "text/plain": [
       "Index(['_unit_id', '_golden', '_unit_state', '_trusted_judgments',\n",
       "       '_last_judgment_at', 'airline_sentiment',\n",
       "       'airline_sentiment:confidence', 'negativereason',\n",
       "       'negativereason:confidence', 'airline', 'airline_sentiment_gold',\n",
       "       'name', 'negativereason_gold', 'retweet_count', 'text', 'tweet_coord',\n",
       "       'tweet_created', 'tweet_id', 'tweet_location', 'user_timezone'],\n",
       "      dtype='object')"
      ]
     },
     "execution_count": 24,
     "metadata": {},
     "output_type": "execute_result"
    }
   ],
   "source": [
    "file.columns\n"
   ]
  },
  {
   "cell_type": "code",
   "execution_count": 25,
   "id": "070ca1c8",
   "metadata": {},
   "outputs": [],
   "source": [
    "sentiment=file[['airline_sentiment', 'airline']].copy()"
   ]
  },
  {
   "cell_type": "code",
   "execution_count": 26,
   "id": "98d6e360",
   "metadata": {},
   "outputs": [
    {
     "data": {
      "text/html": [
       "<div>\n",
       "<style scoped>\n",
       "    .dataframe tbody tr th:only-of-type {\n",
       "        vertical-align: middle;\n",
       "    }\n",
       "\n",
       "    .dataframe tbody tr th {\n",
       "        vertical-align: top;\n",
       "    }\n",
       "\n",
       "    .dataframe thead th {\n",
       "        text-align: right;\n",
       "    }\n",
       "</style>\n",
       "<table border=\"1\" class=\"dataframe\">\n",
       "  <thead>\n",
       "    <tr style=\"text-align: right;\">\n",
       "      <th></th>\n",
       "      <th>airline_sentiment</th>\n",
       "      <th>airline</th>\n",
       "    </tr>\n",
       "  </thead>\n",
       "  <tbody>\n",
       "    <tr>\n",
       "      <th>0</th>\n",
       "      <td>neutral</td>\n",
       "      <td>Virgin America</td>\n",
       "    </tr>\n",
       "    <tr>\n",
       "      <th>1</th>\n",
       "      <td>positive</td>\n",
       "      <td>Virgin America</td>\n",
       "    </tr>\n",
       "    <tr>\n",
       "      <th>2</th>\n",
       "      <td>neutral</td>\n",
       "      <td>Virgin America</td>\n",
       "    </tr>\n",
       "    <tr>\n",
       "      <th>3</th>\n",
       "      <td>negative</td>\n",
       "      <td>Virgin America</td>\n",
       "    </tr>\n",
       "    <tr>\n",
       "      <th>4</th>\n",
       "      <td>negative</td>\n",
       "      <td>Virgin America</td>\n",
       "    </tr>\n",
       "    <tr>\n",
       "      <th>...</th>\n",
       "      <td>...</td>\n",
       "      <td>...</td>\n",
       "    </tr>\n",
       "    <tr>\n",
       "      <th>14635</th>\n",
       "      <td>positive</td>\n",
       "      <td>American</td>\n",
       "    </tr>\n",
       "    <tr>\n",
       "      <th>14636</th>\n",
       "      <td>negative</td>\n",
       "      <td>American</td>\n",
       "    </tr>\n",
       "    <tr>\n",
       "      <th>14637</th>\n",
       "      <td>neutral</td>\n",
       "      <td>American</td>\n",
       "    </tr>\n",
       "    <tr>\n",
       "      <th>14638</th>\n",
       "      <td>negative</td>\n",
       "      <td>American</td>\n",
       "    </tr>\n",
       "    <tr>\n",
       "      <th>14639</th>\n",
       "      <td>neutral</td>\n",
       "      <td>American</td>\n",
       "    </tr>\n",
       "  </tbody>\n",
       "</table>\n",
       "<p>14640 rows × 2 columns</p>\n",
       "</div>"
      ],
      "text/plain": [
       "      airline_sentiment         airline\n",
       "0               neutral  Virgin America\n",
       "1              positive  Virgin America\n",
       "2               neutral  Virgin America\n",
       "3              negative  Virgin America\n",
       "4              negative  Virgin America\n",
       "...                 ...             ...\n",
       "14635          positive        American\n",
       "14636          negative        American\n",
       "14637           neutral        American\n",
       "14638          negative        American\n",
       "14639           neutral        American\n",
       "\n",
       "[14640 rows x 2 columns]"
      ]
     },
     "execution_count": 26,
     "metadata": {},
     "output_type": "execute_result"
    }
   ],
   "source": [
    "sentiment"
   ]
  },
  {
   "cell_type": "code",
   "execution_count": 27,
   "id": "9f2de4ee",
   "metadata": {},
   "outputs": [
    {
     "data": {
      "text/html": [
       "<div>\n",
       "<style scoped>\n",
       "    .dataframe tbody tr th:only-of-type {\n",
       "        vertical-align: middle;\n",
       "    }\n",
       "\n",
       "    .dataframe tbody tr th {\n",
       "        vertical-align: top;\n",
       "    }\n",
       "\n",
       "    .dataframe thead th {\n",
       "        text-align: right;\n",
       "    }\n",
       "</style>\n",
       "<table border=\"1\" class=\"dataframe\">\n",
       "  <thead>\n",
       "    <tr style=\"text-align: right;\">\n",
       "      <th></th>\n",
       "      <th>airline_sentiment</th>\n",
       "      <th>airline</th>\n",
       "    </tr>\n",
       "  </thead>\n",
       "  <tbody>\n",
       "    <tr>\n",
       "      <th>11879</th>\n",
       "      <td>negative</td>\n",
       "      <td>American</td>\n",
       "    </tr>\n",
       "    <tr>\n",
       "      <th>11880</th>\n",
       "      <td>neutral</td>\n",
       "      <td>American</td>\n",
       "    </tr>\n",
       "    <tr>\n",
       "      <th>11881</th>\n",
       "      <td>negative</td>\n",
       "      <td>American</td>\n",
       "    </tr>\n",
       "    <tr>\n",
       "      <th>11882</th>\n",
       "      <td>negative</td>\n",
       "      <td>American</td>\n",
       "    </tr>\n",
       "    <tr>\n",
       "      <th>11883</th>\n",
       "      <td>negative</td>\n",
       "      <td>American</td>\n",
       "    </tr>\n",
       "    <tr>\n",
       "      <th>...</th>\n",
       "      <td>...</td>\n",
       "      <td>...</td>\n",
       "    </tr>\n",
       "    <tr>\n",
       "      <th>14635</th>\n",
       "      <td>positive</td>\n",
       "      <td>American</td>\n",
       "    </tr>\n",
       "    <tr>\n",
       "      <th>14636</th>\n",
       "      <td>negative</td>\n",
       "      <td>American</td>\n",
       "    </tr>\n",
       "    <tr>\n",
       "      <th>14637</th>\n",
       "      <td>neutral</td>\n",
       "      <td>American</td>\n",
       "    </tr>\n",
       "    <tr>\n",
       "      <th>14638</th>\n",
       "      <td>negative</td>\n",
       "      <td>American</td>\n",
       "    </tr>\n",
       "    <tr>\n",
       "      <th>14639</th>\n",
       "      <td>neutral</td>\n",
       "      <td>American</td>\n",
       "    </tr>\n",
       "  </tbody>\n",
       "</table>\n",
       "<p>2759 rows × 2 columns</p>\n",
       "</div>"
      ],
      "text/plain": [
       "      airline_sentiment   airline\n",
       "11879          negative  American\n",
       "11880           neutral  American\n",
       "11881          negative  American\n",
       "11882          negative  American\n",
       "11883          negative  American\n",
       "...                 ...       ...\n",
       "14635          positive  American\n",
       "14636          negative  American\n",
       "14637           neutral  American\n",
       "14638          negative  American\n",
       "14639           neutral  American\n",
       "\n",
       "[2759 rows x 2 columns]"
      ]
     },
     "execution_count": 27,
     "metadata": {},
     "output_type": "execute_result"
    }
   ],
   "source": [
    "sentiment[sentiment['airline']=='American']"
   ]
  },
  {
   "cell_type": "code",
   "execution_count": 31,
   "id": "a36e682c",
   "metadata": {},
   "outputs": [
    {
     "data": {
      "text/plain": [
       "array([1960,  463,  336])"
      ]
     },
     "execution_count": 31,
     "metadata": {},
     "output_type": "execute_result"
    }
   ],
   "source": [
    "sentiment[sentiment['airline']=='American']['airline_sentiment'].value_counts().values"
   ]
  },
  {
   "cell_type": "code",
   "execution_count": null,
   "id": "1c50b29e",
   "metadata": {},
   "outputs": [],
   "source": []
  },
  {
   "cell_type": "code",
   "execution_count": 65,
   "id": "a630ed18",
   "metadata": {},
   "outputs": [
    {
     "data": {
      "text/plain": [
       "<AxesSubplot:ylabel='None'>"
      ]
     },
     "execution_count": 65,
     "metadata": {},
     "output_type": "execute_result"
    },
    {
     "data": {
      "image/png": "[encoded data removed]",
      "text/plain": [
       "<Figure size 720x720 with 1 Axes>"
      ]
     },
     "metadata": {},
     "output_type": "display_data"
    }
   ],
   "source": [
    "def label_function(val):\n",
    "    return f'{val/100 * len(df):.0f}--{val:.0f}%'\n",
    "\n",
    "df = sentiment[sentiment['airline']=='American']\n",
    "\n",
    "fig,ax=plt.subplots(figsize=(10,10))\n",
    "\n",
    "df.groupby('airline_sentiment').size().plot(kind='pie',autopct=label_function, ax=ax)"
   ]
  },
  {
   "cell_type": "code",
   "execution_count": 64,
   "id": "dd99298a",
   "metadata": {},
   "outputs": [
    {
     "data": {
      "text/html": [
       "<div>\n",
       "<style scoped>\n",
       "    .dataframe tbody tr th:only-of-type {\n",
       "        vertical-align: middle;\n",
       "    }\n",
       "\n",
       "    .dataframe tbody tr th {\n",
       "        vertical-align: top;\n",
       "    }\n",
       "\n",
       "    .dataframe thead th {\n",
       "        text-align: right;\n",
       "    }\n",
       "</style>\n",
       "<table border=\"1\" class=\"dataframe\">\n",
       "  <thead>\n",
       "    <tr style=\"text-align: right;\">\n",
       "      <th></th>\n",
       "      <th>airline_sentiment</th>\n",
       "      <th>airline</th>\n",
       "    </tr>\n",
       "  </thead>\n",
       "  <tbody>\n",
       "    <tr>\n",
       "      <th>11879</th>\n",
       "      <td>negative</td>\n",
       "      <td>American</td>\n",
       "    </tr>\n",
       "    <tr>\n",
       "      <th>11880</th>\n",
       "      <td>neutral</td>\n",
       "      <td>American</td>\n",
       "    </tr>\n",
       "    <tr>\n",
       "      <th>11881</th>\n",
       "      <td>negative</td>\n",
       "      <td>American</td>\n",
       "    </tr>\n",
       "    <tr>\n",
       "      <th>11882</th>\n",
       "      <td>negative</td>\n",
       "      <td>American</td>\n",
       "    </tr>\n",
       "    <tr>\n",
       "      <th>11883</th>\n",
       "      <td>negative</td>\n",
       "      <td>American</td>\n",
       "    </tr>\n",
       "    <tr>\n",
       "      <th>...</th>\n",
       "      <td>...</td>\n",
       "      <td>...</td>\n",
       "    </tr>\n",
       "    <tr>\n",
       "      <th>14635</th>\n",
       "      <td>positive</td>\n",
       "      <td>American</td>\n",
       "    </tr>\n",
       "    <tr>\n",
       "      <th>14636</th>\n",
       "      <td>negative</td>\n",
       "      <td>American</td>\n",
       "    </tr>\n",
       "    <tr>\n",
       "      <th>14637</th>\n",
       "      <td>neutral</td>\n",
       "      <td>American</td>\n",
       "    </tr>\n",
       "    <tr>\n",
       "      <th>14638</th>\n",
       "      <td>negative</td>\n",
       "      <td>American</td>\n",
       "    </tr>\n",
       "    <tr>\n",
       "      <th>14639</th>\n",
       "      <td>neutral</td>\n",
       "      <td>American</td>\n",
       "    </tr>\n",
       "  </tbody>\n",
       "</table>\n",
       "<p>2759 rows × 2 columns</p>\n",
       "</div>"
      ],
      "text/plain": [
       "      airline_sentiment   airline\n",
       "11879          negative  American\n",
       "11880           neutral  American\n",
       "11881          negative  American\n",
       "11882          negative  American\n",
       "11883          negative  American\n",
       "...                 ...       ...\n",
       "14635          positive  American\n",
       "14636          negative  American\n",
       "14637           neutral  American\n",
       "14638          negative  American\n",
       "14639           neutral  American\n",
       "\n",
       "[2759 rows x 2 columns]"
      ]
     },
     "execution_count": 64,
     "metadata": {},
     "output_type": "execute_result"
    }
   ],
   "source": [
    "df"
   ]
  },
  {
   "cell_type": "code",
   "execution_count": 37,
   "id": "ba99313b",
   "metadata": {},
   "outputs": [
    {
     "data": {
      "text/plain": [
       "<pandas.core.groupby.generic.DataFrameGroupBy object at 0x168c5ed70>"
      ]
     },
     "execution_count": 37,
     "metadata": {},
     "output_type": "execute_result"
    }
   ],
   "source": [
    "df.groupby('airline_sentiment')"
   ]
  },
  {
   "cell_type": "code",
   "execution_count": 63,
   "id": "234f5905",
   "metadata": {},
   "outputs": [
    {
     "data": {
      "text/plain": [
       "<AxesSubplot:ylabel='None'>"
      ]
     },
     "execution_count": 63,
     "metadata": {},
     "output_type": "execute_result"
    },
    {
     "data": {
      "image/png": "[encoded data removed]",
      "text/plain": [
       "<Figure size 432x288 with 1 Axes>"
      ]
     },
     "metadata": {},
     "output_type": "display_data"
    }
   ],
   "source": [
    "df.groupby('airline_sentiment').size().plot(kind='pie')"
   ]
  },
  {
   "cell_type": "code",
   "execution_count": 43,
   "id": "b124abc6",
   "metadata": {},
   "outputs": [
    {
     "data": {
      "text/plain": [
       "array(['Virgin America', 'United', 'Southwest', 'Delta', 'US Airways',\n",
       "       'American'], dtype=object)"
      ]
     },
     "execution_count": 43,
     "metadata": {},
     "output_type": "execute_result"
    }
   ],
   "source": [
    "file['airline'].unique()"
   ]
  },
  {
   "cell_type": "code",
   "execution_count": 44,
   "id": "98ecd295",
   "metadata": {},
   "outputs": [],
   "source": [
    "airlines = file['airline'].unique()"
   ]
  },
  {
   "cell_type": "code",
   "execution_count": 145,
   "id": "883ff4e5",
   "metadata": {
    "scrolled": false
   },
   "outputs": [
    {
     "data": {
      "image/png": "[encoded data removed]",
      "text/plain": [
       "<Figure size 720x720 with 1 Axes>"
      ]
     },
     "metadata": {},
     "output_type": "display_data"
    },
    {
     "data": {
      "image/png": "[encoded data removed]",
      "text/plain": [
       "<Figure size 720x720 with 1 Axes>"
      ]
     },
     "metadata": {},
     "output_type": "display_data"
    },
    {
     "data": {
      "image/png": "[encoded data removed]",
      "text/plain": [
       "<Figure size 720x720 with 1 Axes>"
      ]
     },
     "metadata": {},
     "output_type": "display_data"
    },
    {
     "data": {
      "image/png": "[encoded data removed]",
      "text/plain": [
       "<Figure size 720x720 with 1 Axes>"
      ]
     },
     "metadata": {},
     "output_type": "display_data"
    },
    {
     "data": {
      "image/png": "[encoded data removed]",
      "text/plain": [
       "<Figure size 720x720 with 1 Axes>"
      ]
     },
     "metadata": {},
     "output_type": "display_data"
    },
    {
     "data": {
      "image/png": "[encoded data removed]",
      "text/plain": [
       "<Figure size 720x720 with 1 Axes>"
      ]
     },
     "metadata": {},
     "output_type": "display_data"
    }
   ],
   "source": [
    "for i in airlines:\n",
    "    df = sentiment[sentiment['airline']== i]\n",
    "\n",
    "    fig,ax=plt.subplots(figsize=(10,10))\n",
    "    plt.title('Airline reviews')\n",
    "    df.groupby('airline_sentiment').size().plot(kind='pie',autopct=label_function, ax=ax)"
   ]
  },
  {
   "cell_type": "code",
   "execution_count": null,
   "id": "b73883fa",
   "metadata": {},
   "outputs": [],
   "source": []
  },
  {
   "cell_type": "code",
   "execution_count": null,
   "id": "51a2f469",
   "metadata": {},
   "outputs": [],
   "source": [
    "# df = pd.DataFrame({['airline'] ['Southwest'],\n",
    "#                    ['airline'] ['Delta']}, index=index)\n",
    "# ax = df.plot.barh()\n",
    "\n",
    "\n",
    "# ax = df.plot.barh(stacked=True)\n"
   ]
  },
  {
   "cell_type": "markdown",
   "id": "21f5cc6f",
   "metadata": {},
   "source": [
    "Virgin America', 'United', 'Southwest' and 'Delta' all seem to have pretty good positive feedback.\n",
    "American Airlines has some room for improvement in their customer positve feedback. I think if they are looking to improve they should focus more on some of the other airlines models.\n",
    "Surprisingly Southwest seems to have a good amount of neutral and positive feedback, there is still room for improvement in the negative areas, but all of the airlines have that margin for improvemnt as well, that being said Soutwest has the largest margin of positive and neurtal combined feedback, which can help move them forward in the future. "
   ]
  },
  {
   "cell_type": "code",
   "execution_count": 85,
   "id": "fba46bf7",
   "metadata": {},
   "outputs": [],
   "source": [
    "data = pd.read_csv('Twitter-sentiment-self-drive-DFE.csv')"
   ]
  },
  {
   "cell_type": "code",
   "execution_count": 86,
   "id": "f6cb66ff",
   "metadata": {},
   "outputs": [
    {
     "data": {
      "text/html": [
       "<div>\n",
       "<style scoped>\n",
       "    .dataframe tbody tr th:only-of-type {\n",
       "        vertical-align: middle;\n",
       "    }\n",
       "\n",
       "    .dataframe tbody tr th {\n",
       "        vertical-align: top;\n",
       "    }\n",
       "\n",
       "    .dataframe thead th {\n",
       "        text-align: right;\n",
       "    }\n",
       "</style>\n",
       "<table border=\"1\" class=\"dataframe\">\n",
       "  <thead>\n",
       "    <tr style=\"text-align: right;\">\n",
       "      <th></th>\n",
       "      <th>_unit_id</th>\n",
       "      <th>_golden</th>\n",
       "      <th>_unit_state</th>\n",
       "      <th>_trusted_judgments</th>\n",
       "      <th>_last_judgment_at</th>\n",
       "      <th>sentiment</th>\n",
       "      <th>sentiment:confidence</th>\n",
       "      <th>our_id</th>\n",
       "      <th>sentiment_gold</th>\n",
       "      <th>sentiment_gold_reason</th>\n",
       "      <th>text</th>\n",
       "    </tr>\n",
       "  </thead>\n",
       "  <tbody>\n",
       "    <tr>\n",
       "      <th>0</th>\n",
       "      <td>724227031</td>\n",
       "      <td>True</td>\n",
       "      <td>golden</td>\n",
       "      <td>236</td>\n",
       "      <td>NaN</td>\n",
       "      <td>5</td>\n",
       "      <td>0.7579</td>\n",
       "      <td>10001</td>\n",
       "      <td>5\\r\\n4</td>\n",
       "      <td>Author is excited about the development of the...</td>\n",
       "      <td>Two places I'd invest all my money if I could:...</td>\n",
       "    </tr>\n",
       "    <tr>\n",
       "      <th>1</th>\n",
       "      <td>724227032</td>\n",
       "      <td>True</td>\n",
       "      <td>golden</td>\n",
       "      <td>231</td>\n",
       "      <td>NaN</td>\n",
       "      <td>5</td>\n",
       "      <td>0.8775</td>\n",
       "      <td>10002</td>\n",
       "      <td>5\\r\\n4</td>\n",
       "      <td>Author is excited that driverless cars will be...</td>\n",
       "      <td>Awesome! Google driverless cars will help the ...</td>\n",
       "    </tr>\n",
       "    <tr>\n",
       "      <th>2</th>\n",
       "      <td>724227033</td>\n",
       "      <td>True</td>\n",
       "      <td>golden</td>\n",
       "      <td>233</td>\n",
       "      <td>NaN</td>\n",
       "      <td>2</td>\n",
       "      <td>0.6805</td>\n",
       "      <td>10003</td>\n",
       "      <td>2\\r\\n1</td>\n",
       "      <td>The author is skeptical of the safety and reli...</td>\n",
       "      <td>If Google maps can't keep up with road constru...</td>\n",
       "    </tr>\n",
       "    <tr>\n",
       "      <th>3</th>\n",
       "      <td>724227034</td>\n",
       "      <td>True</td>\n",
       "      <td>golden</td>\n",
       "      <td>240</td>\n",
       "      <td>NaN</td>\n",
       "      <td>2</td>\n",
       "      <td>0.8820</td>\n",
       "      <td>10004</td>\n",
       "      <td>2\\r\\n1</td>\n",
       "      <td>The author is skeptical of the project's value.</td>\n",
       "      <td>Autonomous cars seem way overhyped given the t...</td>\n",
       "    </tr>\n",
       "    <tr>\n",
       "      <th>4</th>\n",
       "      <td>724227035</td>\n",
       "      <td>True</td>\n",
       "      <td>golden</td>\n",
       "      <td>240</td>\n",
       "      <td>NaN</td>\n",
       "      <td>3</td>\n",
       "      <td>1.0000</td>\n",
       "      <td>10005</td>\n",
       "      <td>3</td>\n",
       "      <td>Author is making an observation without expres...</td>\n",
       "      <td>Just saw Google self-driving car on I-34. It w...</td>\n",
       "    </tr>\n",
       "  </tbody>\n",
       "</table>\n",
       "</div>"
      ],
      "text/plain": [
       "    _unit_id  _golden _unit_state  _trusted_judgments _last_judgment_at  \\\n",
       "0  724227031     True      golden                 236               NaN   \n",
       "1  724227032     True      golden                 231               NaN   \n",
       "2  724227033     True      golden                 233               NaN   \n",
       "3  724227034     True      golden                 240               NaN   \n",
       "4  724227035     True      golden                 240               NaN   \n",
       "\n",
       "  sentiment  sentiment:confidence  our_id sentiment_gold  \\\n",
       "0         5                0.7579   10001         5\\r\\n4   \n",
       "1         5                0.8775   10002         5\\r\\n4   \n",
       "2         2                0.6805   10003         2\\r\\n1   \n",
       "3         2                0.8820   10004         2\\r\\n1   \n",
       "4         3                1.0000   10005              3   \n",
       "\n",
       "                               sentiment_gold_reason  \\\n",
       "0  Author is excited about the development of the...   \n",
       "1  Author is excited that driverless cars will be...   \n",
       "2  The author is skeptical of the safety and reli...   \n",
       "3    The author is skeptical of the project's value.   \n",
       "4  Author is making an observation without expres...   \n",
       "\n",
       "                                                text  \n",
       "0  Two places I'd invest all my money if I could:...  \n",
       "1  Awesome! Google driverless cars will help the ...  \n",
       "2  If Google maps can't keep up with road constru...  \n",
       "3  Autonomous cars seem way overhyped given the t...  \n",
       "4  Just saw Google self-driving car on I-34. It w...  "
      ]
     },
     "execution_count": 86,
     "metadata": {},
     "output_type": "execute_result"
    }
   ],
   "source": [
    "data.head()"
   ]
  },
  {
   "cell_type": "code",
   "execution_count": 87,
   "id": "4616f949",
   "metadata": {},
   "outputs": [
    {
     "data": {
      "text/plain": [
       "Index(['_unit_id', '_golden', '_unit_state', '_trusted_judgments',\n",
       "       '_last_judgment_at', 'sentiment', 'sentiment:confidence', 'our_id',\n",
       "       'sentiment_gold', 'sentiment_gold_reason', 'text'],\n",
       "      dtype='object')"
      ]
     },
     "execution_count": 87,
     "metadata": {},
     "output_type": "execute_result"
    }
   ],
   "source": [
    "data.columns"
   ]
  },
  {
   "cell_type": "code",
   "execution_count": 88,
   "id": "8074b841",
   "metadata": {},
   "outputs": [
    {
     "data": {
      "text/html": [
       "<div>\n",
       "<style scoped>\n",
       "    .dataframe tbody tr th:only-of-type {\n",
       "        vertical-align: middle;\n",
       "    }\n",
       "\n",
       "    .dataframe tbody tr th {\n",
       "        vertical-align: top;\n",
       "    }\n",
       "\n",
       "    .dataframe thead th {\n",
       "        text-align: right;\n",
       "    }\n",
       "</style>\n",
       "<table border=\"1\" class=\"dataframe\">\n",
       "  <thead>\n",
       "    <tr style=\"text-align: right;\">\n",
       "      <th></th>\n",
       "      <th>_unit_id</th>\n",
       "      <th>_trusted_judgments</th>\n",
       "      <th>sentiment:confidence</th>\n",
       "      <th>our_id</th>\n",
       "    </tr>\n",
       "  </thead>\n",
       "  <tbody>\n",
       "    <tr>\n",
       "      <th>count</th>\n",
       "      <td>7.156000e+03</td>\n",
       "      <td>7156.000000</td>\n",
       "      <td>7156.000000</td>\n",
       "      <td>7156.000000</td>\n",
       "    </tr>\n",
       "    <tr>\n",
       "      <th>mean</th>\n",
       "      <td>7.243474e+08</td>\n",
       "      <td>5.834405</td>\n",
       "      <td>0.774654</td>\n",
       "      <td>3609.930548</td>\n",
       "    </tr>\n",
       "    <tr>\n",
       "      <th>std</th>\n",
       "      <td>2.506742e+05</td>\n",
       "      <td>11.144930</td>\n",
       "      <td>0.205363</td>\n",
       "      <td>2140.401611</td>\n",
       "    </tr>\n",
       "    <tr>\n",
       "      <th>min</th>\n",
       "      <td>7.242270e+08</td>\n",
       "      <td>1.000000</td>\n",
       "      <td>0.248000</td>\n",
       "      <td>1.000000</td>\n",
       "    </tr>\n",
       "    <tr>\n",
       "      <th>25%</th>\n",
       "      <td>7.243229e+08</td>\n",
       "      <td>3.000000</td>\n",
       "      <td>0.630600</td>\n",
       "      <td>1789.750000</td>\n",
       "    </tr>\n",
       "    <tr>\n",
       "      <th>50%</th>\n",
       "      <td>7.243247e+08</td>\n",
       "      <td>4.000000</td>\n",
       "      <td>0.753100</td>\n",
       "      <td>3578.500000</td>\n",
       "    </tr>\n",
       "    <tr>\n",
       "      <th>75%</th>\n",
       "      <td>7.243265e+08</td>\n",
       "      <td>8.000000</td>\n",
       "      <td>1.000000</td>\n",
       "      <td>5367.250000</td>\n",
       "    </tr>\n",
       "    <tr>\n",
       "      <th>max</th>\n",
       "      <td>7.269423e+08</td>\n",
       "      <td>241.000000</td>\n",
       "      <td>1.000000</td>\n",
       "      <td>10077.000000</td>\n",
       "    </tr>\n",
       "  </tbody>\n",
       "</table>\n",
       "</div>"
      ],
      "text/plain": [
       "           _unit_id  _trusted_judgments  sentiment:confidence        our_id\n",
       "count  7.156000e+03         7156.000000           7156.000000   7156.000000\n",
       "mean   7.243474e+08            5.834405              0.774654   3609.930548\n",
       "std    2.506742e+05           11.144930              0.205363   2140.401611\n",
       "min    7.242270e+08            1.000000              0.248000      1.000000\n",
       "25%    7.243229e+08            3.000000              0.630600   1789.750000\n",
       "50%    7.243247e+08            4.000000              0.753100   3578.500000\n",
       "75%    7.243265e+08            8.000000              1.000000   5367.250000\n",
       "max    7.269423e+08          241.000000              1.000000  10077.000000"
      ]
     },
     "execution_count": 88,
     "metadata": {},
     "output_type": "execute_result"
    }
   ],
   "source": [
    "data.describe()"
   ]
  },
  {
   "cell_type": "code",
   "execution_count": 83,
   "id": "686c6c8c",
   "metadata": {},
   "outputs": [
    {
     "data": {
      "text/plain": [
       "(7156, 11)"
      ]
     },
     "execution_count": 83,
     "metadata": {},
     "output_type": "execute_result"
    }
   ],
   "source": [
    "data.shape"
   ]
  },
  {
   "cell_type": "code",
   "execution_count": 92,
   "id": "6746e528",
   "metadata": {},
   "outputs": [
    {
     "data": {
      "text/plain": [
       "_unit_id                   int64\n",
       "_golden                     bool\n",
       "_unit_state               object\n",
       "_trusted_judgments         int64\n",
       "_last_judgment_at         object\n",
       "sentiment                 object\n",
       "sentiment:confidence     float64\n",
       "our_id                     int64\n",
       "sentiment_gold            object\n",
       "sentiment_gold_reason     object\n",
       "text                      object\n",
       "dtype: object"
      ]
     },
     "execution_count": 92,
     "metadata": {},
     "output_type": "execute_result"
    }
   ],
   "source": [
    "data.dtypes"
   ]
  },
  {
   "cell_type": "code",
   "execution_count": 62,
   "id": "fe502fe8",
   "metadata": {},
   "outputs": [
    {
     "data": {
      "text/plain": [
       "array([0.7579, 0.8775, 0.6805, ..., 0.5616, 0.8854, 0.8431])"
      ]
     },
     "execution_count": 62,
     "metadata": {},
     "output_type": "execute_result"
    }
   ],
   "source": [
    "data['sentiment:confidence'].unique()"
   ]
  },
  {
   "cell_type": "code",
   "execution_count": 99,
   "id": "eb5dc366",
   "metadata": {},
   "outputs": [],
   "source": [
    "data2 = data.loc[data['sentiment']!= 'not_relevant'].copy()"
   ]
  },
  {
   "cell_type": "code",
   "execution_count": null,
   "id": "768dc919",
   "metadata": {},
   "outputs": [],
   "source": []
  },
  {
   "cell_type": "code",
   "execution_count": 100,
   "id": "847cc621",
   "metadata": {},
   "outputs": [
    {
     "data": {
      "image/png": "[encoded data removed]",
      "text/plain": [
       "<Figure size 432x288 with 2 Axes>"
      ]
     },
     "metadata": {
      "needs_background": "light"
     },
     "output_type": "display_data"
    }
   ],
   "source": [
    "data2['sentiment'] = data2['sentiment'].astype(float)\n",
    "ax2 = data2.plot.scatter(x='sentiment',\n",
    "                      y='sentiment:confidence',\n",
    "                      c='sentiment',\n",
    "                      colormap='viridis')"
   ]
  },
  {
   "cell_type": "code",
   "execution_count": null,
   "id": "3779b927",
   "metadata": {},
   "outputs": [],
   "source": []
  },
  {
   "cell_type": "code",
   "execution_count": 125,
   "id": "66d66ef2",
   "metadata": {},
   "outputs": [
    {
     "data": {
      "image/png": "[encoded data removed]",
      "text/plain": [
       "<Figure size 432x288 with 2 Axes>"
      ]
     },
     "metadata": {
      "needs_background": "light"
     },
     "output_type": "display_data"
    }
   ],
   "source": [
    "data['sentiment:confidence'] = data['sentiment:confidence']\n",
    "data['text_len'] = data['text'].str.len()\n",
    "ax2 = data.plot.scatter(x='sentiment:confidence',\n",
    "                      y='text_len',\n",
    "                      c='sentiment:confidence',\n",
    "                      colormap='viridis')"
   ]
  },
  {
   "cell_type": "code",
   "execution_count": null,
   "id": "3cc9c5d6",
   "metadata": {},
   "outputs": [],
   "source": [
    "Pie chart showing a summary of all sentiments, but only sentiment judgements with a confidence of higher than 0.8.\n"
   ]
  },
  {
   "cell_type": "code",
   "execution_count": null,
   "id": "95920285",
   "metadata": {},
   "outputs": [],
   "source": []
  },
  {
   "cell_type": "code",
   "execution_count": null,
   "id": "00064f9e",
   "metadata": {},
   "outputs": [],
   "source": []
  },
  {
   "cell_type": "code",
   "execution_count": 134,
   "id": "024b4411",
   "metadata": {},
   "outputs": [
    {
     "data": {
      "image/png": "[encoded data removed]",
      "text/plain": [
       "<Figure size 720x504 with 1 Axes>"
      ]
     },
     "metadata": {},
     "output_type": "display_data"
    }
   ],
   "source": [
    "data = ['sentiment', 'sentiment:confidence', 'trusted_judgements']\n",
    "pie_chart=[3, 5, 6] \n",
    "\n",
    "\n",
    " \n",
    "# Creating plot\n",
    "fig = plt.figure(figsize =(10, 7))\n",
    "plt.pie( pie_chart, labels = data)\n",
    " \n",
    "plt.title('confidence')\n",
    "plt.show("
   ]
  },
  {
   "cell_type": "code",
   "execution_count": 135,
   "id": "6a603261",
   "metadata": {},
   "outputs": [
    {
     "data": {
      "image/png": "[encoded data removed]",
      "text/plain": [
       "<Figure size 720x504 with 1 Axes>"
      ]
     },
     "metadata": {},
     "output_type": "display_data"
    }
   ],
   "source": [
    "# Creating dataset\n",
    "data = ['_unit_state', '_last_judgment_at', 'trusted_judgements']\n",
    "new_chart=[2, 4, 6] \n",
    "\n",
    "\n",
    " \n",
    "# Creating plot\n",
    "fig = plt.figure(figsize =(10, 7))\n",
    "plt.pie( new_chart, labels = data)\n",
    " \n",
    "plt.title('Self Driving Data')\n",
    "plt.show()"
   ]
  },
  {
   "cell_type": "markdown",
   "id": "aa0c50ed",
   "metadata": {},
   "source": [
    "Some of the concerns are about the self driving cars on large and busy roads. Which is a valid concern due to different reaction times.\n",
    "the overall public reaction seems to be favorable. "
   ]
  },
  {
   "cell_type": "code",
   "execution_count": null,
   "id": "94b7f79a",
   "metadata": {},
   "outputs": [],
   "source": []
  }
 ],
 "metadata": {
  "kernelspec": {
   "display_name": "Python 3 (ipykernel)",
   "language": "python",
   "name": "python3"
  },
  "language_info": {
   "codemirror_mode": {
    "name": "ipython",
    "version": 3
   },
   "file_extension": ".py",
   "mimetype": "text/x-python",
   "name": "python",
   "nbconvert_exporter": "python",
   "pygments_lexer": "ipython3",
   "version": "3.10.2"
  }
 },
 "nbformat": 4,
 "nbformat_minor": 5
}
